{
  "nbformat": 4,
  "nbformat_minor": 0,
  "metadata": {
    "colab": {
      "provenance": [],
      "collapsed_sections": []
    },
    "kernelspec": {
      "name": "python3",
      "display_name": "Python 3"
    },
    "language_info": {
      "name": "python"
    }
  },
  "cells": [
    {
      "cell_type": "markdown",
      "source": [
        "## Lists in Python"
      ],
      "metadata": {
        "id": "StDpMldp3d5u"
      }
    },
    {
      "cell_type": "code",
      "execution_count": 7,
      "metadata": {
        "colab": {
          "base_uri": "https://localhost:8080/"
        },
        "id": "S6bZb7DY2jO0",
        "outputId": "596269cf-c663-4d8d-d5e8-efc19dd1134b"
      },
      "outputs": [
        {
          "output_type": "stream",
          "name": "stdout",
          "text": [
            "The list is:  ['Car', 'Bike', 'Motorcycle', 'Truck']\n",
            "The 3rd vehicle is:  Motorcycle\n"
          ]
        }
      ],
      "source": [
        "list_of_vehicles = ['Car', 'Bike', 'Motorcycle', 'Truck']\n",
        "print(\"The list is: \", list_of_vehicles)\n",
        "print(\"The 3rd vehicle is: \", list_of_vehicles[2])"
      ]
    },
    {
      "cell_type": "code",
      "source": [
        "list_of_vehicles.append('Bus')\n",
        "print(\"Now the list is: \", list_of_vehicles)"
      ],
      "metadata": {
        "colab": {
          "base_uri": "https://localhost:8080/"
        },
        "id": "PINShWCb3t1C",
        "outputId": "6cc64f99-08a8-441d-de94-373479dc0540"
      },
      "execution_count": 8,
      "outputs": [
        {
          "output_type": "stream",
          "name": "stdout",
          "text": [
            "Now the list is:  ['Car', 'Bike', 'Motorcycle', 'Truck', 'Bus']\n"
          ]
        }
      ]
    },
    {
      "cell_type": "code",
      "source": [
        "list_of_vehicles.insert(2, 'Bicycle')\n",
        "print(\"Now the list is: \", list_of_vehicles)\n",
        "print(\"Now the 3rd vehicle is: \", list_of_vehicles[2])"
      ],
      "metadata": {
        "colab": {
          "base_uri": "https://localhost:8080/"
        },
        "id": "bFTsRpD44BES",
        "outputId": "d1f4ccf0-a5c9-43a4-b319-3ab8596bd41b"
      },
      "execution_count": 9,
      "outputs": [
        {
          "output_type": "stream",
          "name": "stdout",
          "text": [
            "Now the list is:  ['Car', 'Bike', 'Bicycle', 'Motorcycle', 'Truck', 'Bus']\n",
            "Now the 3rd vehicle is:  Bicycle\n"
          ]
        }
      ]
    },
    {
      "cell_type": "code",
      "source": [
        "del list_of_vehicles[4]\n",
        "print(\"After removing the 5th element, Now the list is: \", list_of_vehicles)"
      ],
      "metadata": {
        "colab": {
          "base_uri": "https://localhost:8080/"
        },
        "id": "WlYN2hiL4Msm",
        "outputId": "2dd5aa52-a21d-4ef6-dbb4-625a86f3cae9"
      },
      "execution_count": 10,
      "outputs": [
        {
          "output_type": "stream",
          "name": "stdout",
          "text": [
            "After removing the 5th element, Now the list is:  ['Car', 'Bike', 'Bicycle', 'Motorcycle', 'Bus']\n"
          ]
        }
      ]
    },
    {
      "cell_type": "code",
      "source": [
        "list_of_vehicles.remove(\"Bike\")\n",
        "print(\"After removing the element 'Bike' , Now the list is: \", list_of_vehicles)"
      ],
      "metadata": {
        "colab": {
          "base_uri": "https://localhost:8080/"
        },
        "id": "KUhA3Jcp4Vdz",
        "outputId": "8c454a37-6298-4f76-d5f7-3fd2126c1659"
      },
      "execution_count": 12,
      "outputs": [
        {
          "output_type": "stream",
          "name": "stdout",
          "text": [
            "After removing the element 'Bike' , Now the list is:  ['Car', 'Bicycle', 'Motorcycle', 'Bus']\n"
          ]
        }
      ]
    },
    {
      "cell_type": "markdown",
      "source": [
        "# Tuples in Python"
      ],
      "metadata": {
        "id": "ZqCRZkns5YU5"
      }
    },
    {
      "cell_type": "code",
      "source": [
        "_tupleForFood_ = (['Pasta', 'Dal', 'Rice', 'Dosa'])\n",
        "print(\"My tuple for food items is: \", _tupleForFood_)"
      ],
      "metadata": {
        "colab": {
          "base_uri": "https://localhost:8080/"
        },
        "id": "thy2MNa75LA8",
        "outputId": "1872e1da-06d1-472e-de6f-75ac28ce9120"
      },
      "execution_count": 40,
      "outputs": [
        {
          "output_type": "stream",
          "name": "stdout",
          "text": [
            "My tuple for food items is:  ['Pasta', 'Dal', 'Rice', 'Dosa']\n"
          ]
        }
      ]
    },
    {
      "cell_type": "code",
      "source": [
        "print(\"The 3rd food item is: \", _tupleForFood_[2])"
      ],
      "metadata": {
        "colab": {
          "base_uri": "https://localhost:8080/"
        },
        "id": "ZDqHl01g6giS",
        "outputId": "61bf6539-08cb-4b9c-b8eb-6f54c115d391"
      },
      "execution_count": 41,
      "outputs": [
        {
          "output_type": "stream",
          "name": "stdout",
          "text": [
            "The 3rd food item is:  Rice\n"
          ]
        }
      ]
    },
    {
      "cell_type": "code",
      "source": [
        "_tupleForFood_.insert(1000, \"Pizza\")\n",
        "_tupleForFood_.append(\"Sandwich\")\n",
        "print(\"Now my tuple for food items is: \", _tupleForFood_)"
      ],
      "metadata": {
        "colab": {
          "base_uri": "https://localhost:8080/"
        },
        "id": "cI5-ORMl6r7u",
        "outputId": "70251716-a69c-4ecc-a20d-5a9002a364c1"
      },
      "execution_count": 42,
      "outputs": [
        {
          "output_type": "stream",
          "name": "stdout",
          "text": [
            "Now my tuple for food items is:  ['Pasta', 'Dal', 'Rice', 'Dosa', 'Pizza', 'Sandwich']\n"
          ]
        }
      ]
    },
    {
      "cell_type": "code",
      "source": [
        "_tupleForFood_.remove(\"Rice\")\n",
        "print(\"Now my tuple for food items is: \", _tupleForFood_)"
      ],
      "metadata": {
        "colab": {
          "base_uri": "https://localhost:8080/"
        },
        "id": "TaAoRA5Q7Gh6",
        "outputId": "661dfd6b-ecae-4f13-cf1a-a705838d4842"
      },
      "execution_count": 43,
      "outputs": [
        {
          "output_type": "stream",
          "name": "stdout",
          "text": [
            "Now my tuple for food items is:  ['Pasta', 'Dal', 'Dosa', 'Pizza', 'Sandwich']\n"
          ]
        }
      ]
    },
    {
      "cell_type": "code",
      "source": [
        "#we can delete a tuple as follows:\n",
        "del _tupleForFood_\n",
        "#now if we try to print the tuple, we will get an error as it no longer exists"
      ],
      "metadata": {
        "id": "5onyIHib5_qv"
      },
      "execution_count": 44,
      "outputs": []
    },
    {
      "cell_type": "markdown",
      "source": [
        "# Dictionaries in Python\n",
        "\n"
      ],
      "metadata": {
        "id": "ER0-F3QP7Pre"
      }
    },
    {
      "cell_type": "code",
      "source": [
        "Library= {\n",
        "    \"Librarians\": [\"Ishika Sharma\", \"Mohit Kapoor\"],\n",
        "    \"Location\": \"Central Resource Center\",\n",
        "    \"Identification\": 3813492,\n",
        "    \"No. of Books\": 29117\n",
        "}\n",
        "\n",
        "print(\"The details of the library are:\\n\", Library)"
      ],
      "metadata": {
        "colab": {
          "base_uri": "https://localhost:8080/"
        },
        "id": "WBVIlrrN6S-W",
        "outputId": "e94dcf93-34f8-49f0-e1c6-23d00546fd44"
      },
      "execution_count": 32,
      "outputs": [
        {
          "output_type": "stream",
          "name": "stdout",
          "text": [
            "The details of the library are:\n",
            " {'Librarians': ['Ishika Sharma', 'Mohit Kapoor'], 'Location': 'Central Resource Center', 'Identification': 3813492, 'No. of Books': 29117}\n"
          ]
        }
      ]
    },
    {
      "cell_type": "code",
      "source": [
        "print(\"The librarians available are: \", Library[\"Librarians\"][0], \"and\", Library[\"Librarians\"][1])\n",
        "print(\"The number of books available at the library are: \", Library[\"No. of Books\"])"
      ],
      "metadata": {
        "colab": {
          "base_uri": "https://localhost:8080/"
        },
        "id": "Op2vNF-m6bfE",
        "outputId": "2043be1a-2f89-414a-b993-b69d475d2960"
      },
      "execution_count": 35,
      "outputs": [
        {
          "output_type": "stream",
          "name": "stdout",
          "text": [
            "The librarians available are:  Ishika Sharma and Mohit Kapoor\n",
            "The number of books available at the library are:  29117\n"
          ]
        }
      ]
    },
    {
      "cell_type": "code",
      "source": [
        "Library[\"No. of Books\"] = 32000\n",
        "print(\"Now the updated number of books available at the library are: \", Library[\"No. of Books\"])"
      ],
      "metadata": {
        "colab": {
          "base_uri": "https://localhost:8080/"
        },
        "id": "OeTuDsoo-MWo",
        "outputId": "4a4c4ed7-8cfd-4865-b03b-48ffac91f4a3"
      },
      "execution_count": 36,
      "outputs": [
        {
          "output_type": "stream",
          "name": "stdout",
          "text": [
            "Now the updated number of books available at the library are:  32000\n"
          ]
        }
      ]
    },
    {
      "cell_type": "code",
      "source": [
        "Library[\"Review\"] = \"Excellent\"\n",
        "print(\"Now the details of the library are:\\n\", Library)"
      ],
      "metadata": {
        "colab": {
          "base_uri": "https://localhost:8080/"
        },
        "id": "N7rkTeZh-moV",
        "outputId": "2a259686-e831-4ea5-c6a9-6cc992923b27"
      },
      "execution_count": 37,
      "outputs": [
        {
          "output_type": "stream",
          "name": "stdout",
          "text": [
            "Now the details of the library are:\n",
            " {'Librarians': ['Ishika Sharma', 'Mohit Kapoor'], 'Location': 'Central Resource Center', 'Identification': 3813492, 'No. of Books': 32000, 'Review': 'Excellent'}\n"
          ]
        }
      ]
    },
    {
      "cell_type": "code",
      "source": [
        "del Library[\"Librarians\"]\n",
        "print(\"Now the details of the library are:\\n\", Library)"
      ],
      "metadata": {
        "colab": {
          "base_uri": "https://localhost:8080/"
        },
        "id": "kr5FRWDA-4QF",
        "outputId": "c35a02c0-1bb5-4aaf-af07-4e29952fb44a"
      },
      "execution_count": 38,
      "outputs": [
        {
          "output_type": "stream",
          "name": "stdout",
          "text": [
            "Now the details of the library are:\n",
            " {'Location': 'Central Resource Center', 'Identification': 3813492, 'No. of Books': 32000, 'Review': 'Excellent'}\n"
          ]
        }
      ]
    },
    {
      "cell_type": "markdown",
      "source": [
        "#Slicing"
      ],
      "metadata": {
        "id": "JhqfohEx_QB-"
      }
    },
    {
      "cell_type": "code",
      "source": [
        "place = \"Washington\"\n",
        "\n",
        "print(place[7:])\n",
        "print(place[:4])\n",
        "print(place[2:7])\n",
        "print(place[:-1])\n",
        "print(place[-7:-1])\n",
        "print(place[-7:])"
      ],
      "metadata": {
        "colab": {
          "base_uri": "https://localhost:8080/"
        },
        "id": "mQPuPq_s-_9r",
        "outputId": "76024b01-2b26-4396-e220-fa4b58172219"
      },
      "execution_count": 50,
      "outputs": [
        {
          "output_type": "stream",
          "name": "stdout",
          "text": [
            "ton\n",
            "Wash\n",
            "shing\n",
            "Washingto\n",
            "hingto\n",
            "hington\n"
          ]
        }
      ]
    },
    {
      "cell_type": "markdown",
      "source": [
        "# Step Index"
      ],
      "metadata": {
        "id": "gOB_NRzpBAFK"
      }
    },
    {
      "cell_type": "code",
      "source": [
        "flower = \"Lotus\"\n",
        "\n",
        "print(flower[::-1])\n",
        "print(flower[::-2])\n",
        "print(flower[::-3])"
      ],
      "metadata": {
        "colab": {
          "base_uri": "https://localhost:8080/"
        },
        "id": "ZKIGlxYpAdUq",
        "outputId": "e2cdc7a4-5ad3-41b2-f8c0-0c63ce3493b0"
      },
      "execution_count": 55,
      "outputs": [
        {
          "output_type": "stream",
          "name": "stdout",
          "text": [
            "sutoL\n",
            "stL\n",
            "so\n"
          ]
        }
      ]
    },
    {
      "cell_type": "code",
      "source": [],
      "metadata": {
        "id": "S3T3dnJ3BOwM"
      },
      "execution_count": null,
      "outputs": []
    }
  ]
}