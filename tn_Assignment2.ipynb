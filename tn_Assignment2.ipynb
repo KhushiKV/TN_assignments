{
  "nbformat": 4,
  "nbformat_minor": 0,
  "metadata": {
    "colab": {
      "provenance": []
    },
    "kernelspec": {
      "name": "python3",
      "display_name": "Python 3"
    },
    "language_info": {
      "name": "python"
    }
  },
  "cells": [
    {
      "cell_type": "markdown",
      "source": [
        "## Set"
      ],
      "metadata": {
        "id": "5jCIh2GXx8KR"
      }
    },
    {
      "cell_type": "code",
      "execution_count": 2,
      "metadata": {
        "colab": {
          "base_uri": "https://localhost:8080/"
        },
        "id": "mZvvmpjTxsw0",
        "outputId": "685926da-a28a-4670-e969-31d24a6c40d7"
      },
      "outputs": [
        {
          "output_type": "stream",
          "name": "stdout",
          "text": [
            "The set of places is: {'Delhi', 'Mumbai', 'Lucknow'}\n",
            "The number of places in my set is:  3\n"
          ]
        }
      ],
      "source": [
        "places_set = {'Mumbai', 'Delhi', 'Lucknow'}\n",
        "print(\"The set of places is:\", places_set)\n",
        "print(\"The number of places in my set is: \", len(places_set))"
      ]
    },
    {
      "cell_type": "code",
      "source": [
        "places_set.add('Raipur')\n",
        "print(\"The set of places is:\", places_set)"
      ],
      "metadata": {
        "colab": {
          "base_uri": "https://localhost:8080/"
        },
        "id": "A8fT06aZyOoL",
        "outputId": "6feba7cb-e9bf-43f6-d444-8f1c87f6f9f4"
      },
      "execution_count": 3,
      "outputs": [
        {
          "output_type": "stream",
          "name": "stdout",
          "text": [
            "The set of places is: {'Delhi', 'Mumbai', 'Raipur', 'Lucknow'}\n"
          ]
        }
      ]
    },
    {
      "cell_type": "code",
      "source": [
        "places_set.remove('Delhi')\n",
        "print(\"The set of places is:\", places_set)"
      ],
      "metadata": {
        "colab": {
          "base_uri": "https://localhost:8080/"
        },
        "id": "W50zkUnIynfQ",
        "outputId": "ffe31289-8d3f-4d95-9402-1af32bb95126"
      },
      "execution_count": 4,
      "outputs": [
        {
          "output_type": "stream",
          "name": "stdout",
          "text": [
            "The set of places is: {'Mumbai', 'Raipur', 'Lucknow'}\n"
          ]
        }
      ]
    },
    {
      "cell_type": "markdown",
      "source": [
        "## Frozen Set\n",
        "\n",
        "It is an immutable version of a set. The elements of a frozen set remain constant or fixed, they can not be changed"
      ],
      "metadata": {
        "id": "aUHgnJ3dy_YT"
      }
    },
    {
      "cell_type": "code",
      "source": [
        "#example 1\n",
        "my_list = ['hello', 2220, True]\n",
        "fst1 = frozenset(my_list)\n",
        "print(\"The frozenset is: \", fst1)"
      ],
      "metadata": {
        "colab": {
          "base_uri": "https://localhost:8080/"
        },
        "id": "x5jSgc6E0W7-",
        "outputId": "bb8032be-4b28-4bbe-dfcb-3b802c486b6d"
      },
      "execution_count": 5,
      "outputs": [
        {
          "output_type": "stream",
          "name": "stdout",
          "text": [
            "The frozenset is:  frozenset({True, 'hello', 2220})\n"
          ]
        }
      ]
    },
    {
      "cell_type": "code",
      "source": [
        "print(\"An empty frozen set is: \", frozenset())"
      ],
      "metadata": {
        "colab": {
          "base_uri": "https://localhost:8080/"
        },
        "id": "drgBOMBE1j6A",
        "outputId": "e21a34fd-e875-4cff-8298-72b2d9e4913d"
      },
      "execution_count": 6,
      "outputs": [
        {
          "output_type": "stream",
          "name": "stdout",
          "text": [
            "An empty frozen set is:  frozenset()\n"
          ]
        }
      ]
    },
    {
      "cell_type": "code",
      "source": [
        "#if i try to modify my frozenset fst1, it gives an error, because it is immutable\n",
        "fst1.add('hey')"
      ],
      "metadata": {
        "colab": {
          "base_uri": "https://localhost:8080/",
          "height": 182
        },
        "id": "LZqT4mG-1qlM",
        "outputId": "4bd885df-5387-4e3f-ea27-0a08065bb391"
      },
      "execution_count": 9,
      "outputs": [
        {
          "output_type": "error",
          "ename": "AttributeError",
          "evalue": "ignored",
          "traceback": [
            "\u001b[0;31m---------------------------------------------------------------------------\u001b[0m",
            "\u001b[0;31mAttributeError\u001b[0m                            Traceback (most recent call last)",
            "\u001b[0;32m<ipython-input-9-a7b743f9250b>\u001b[0m in \u001b[0;36m<module>\u001b[0;34m\u001b[0m\n\u001b[1;32m      1\u001b[0m \u001b[0;31m#if i try to modify my frozenset fst1, it gives an error, because it is immutable\u001b[0m\u001b[0;34m\u001b[0m\u001b[0;34m\u001b[0m\u001b[0;34m\u001b[0m\u001b[0m\n\u001b[0;32m----> 2\u001b[0;31m \u001b[0mfst1\u001b[0m\u001b[0;34m.\u001b[0m\u001b[0madd\u001b[0m\u001b[0;34m(\u001b[0m\u001b[0;34m'hey'\u001b[0m\u001b[0;34m)\u001b[0m\u001b[0;34m\u001b[0m\u001b[0;34m\u001b[0m\u001b[0m\n\u001b[0m",
            "\u001b[0;31mAttributeError\u001b[0m: 'frozenset' object has no attribute 'add'"
          ]
        }
      ]
    },
    {
      "cell_type": "code",
      "source": [
        "#Example 2\n",
        "my_set = {322, \"hello there\", True}\n",
        "fst2 = frozenset(my_set)\n",
        "print(\"The frozen set here is: \", fst2)"
      ],
      "metadata": {
        "colab": {
          "base_uri": "https://localhost:8080/"
        },
        "id": "qK89BXdm10tQ",
        "outputId": "2b9537f4-168b-4a65-fd0f-cd1f55abaf6c"
      },
      "execution_count": 11,
      "outputs": [
        {
          "output_type": "stream",
          "name": "stdout",
          "text": [
            "The frozen set here is:  frozenset({'hello there', 322, True})\n"
          ]
        }
      ]
    },
    {
      "cell_type": "markdown",
      "source": [
        "## Other operations on Sets"
      ],
      "metadata": {
        "id": "60RO0FTK2Npw"
      }
    },
    {
      "cell_type": "code",
      "source": [
        "ss = set()\n",
        "print(ss)\n",
        "\n",
        "ss.add(\"hello\")\n",
        "ss.add(\"hey\")\n",
        "print(ss)\n",
        "\n",
        "ss.clear()\n",
        "print(ss)"
      ],
      "metadata": {
        "colab": {
          "base_uri": "https://localhost:8080/"
        },
        "id": "zno1mcth2P5N",
        "outputId": "fdd98e5f-67c1-4699-9933-0b136b694e68"
      },
      "execution_count": 14,
      "outputs": [
        {
          "output_type": "stream",
          "name": "stdout",
          "text": [
            "set()\n",
            "{'hello', 'hey'}\n",
            "set()\n"
          ]
        }
      ]
    },
    {
      "cell_type": "code",
      "source": [
        "s1 = {\"This\", \"is\", 2022}\n",
        "s2 = {2022, \"is\", \"current\", \"year\"}\n",
        "\n",
        "s3 = s1|(s2)\n",
        "print(\"Union of the two sets is: \", s3)\n",
        "\n",
        "s4 = s1&(s2)\n",
        "print(\"\\nIntersection of the two sets is: \", s4)"
      ],
      "metadata": {
        "colab": {
          "base_uri": "https://localhost:8080/"
        },
        "id": "7GIRwsUT21qd",
        "outputId": "754f0c2d-683b-4e9d-a3cc-9da5b285e6fa"
      },
      "execution_count": 18,
      "outputs": [
        {
          "output_type": "stream",
          "name": "stdout",
          "text": [
            "Union of the two sets is:  {'year', 'is', 'This', 2022, 'current'}\n",
            "\n",
            "Intersection of the two sets is:  {'is', 2022}\n"
          ]
        }
      ]
    },
    {
      "cell_type": "code",
      "source": [
        "sa = 300\n",
        "sb = 350\n",
        "print((sa) >= (sb))\n",
        "print(sa == sb)\n",
        "print(sa < sb)"
      ],
      "metadata": {
        "colab": {
          "base_uri": "https://localhost:8080/"
        },
        "id": "kkqpsDUY3U3z",
        "outputId": "960c4c51-6763-492d-d1aa-85b2950b3565"
      },
      "execution_count": 20,
      "outputs": [
        {
          "output_type": "stream",
          "name": "stdout",
          "text": [
            "False\n",
            "False\n",
            "True\n"
          ]
        }
      ]
    },
    {
      "cell_type": "code",
      "source": [],
      "metadata": {
        "id": "lBw4n1GF3vsw"
      },
      "execution_count": null,
      "outputs": []
    }
  ]
}